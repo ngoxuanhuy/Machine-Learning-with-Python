{
 "cells": [
  {
   "cell_type": "code",
   "execution_count": null,
   "metadata": {},
   "outputs": [],
   "source": [
    "# Explore Content-based recommendation systems and implement a simpler version...\n",
    "# ...of one using Python and the Pandas library\n",
    "# Import needed libraries\n",
    "import pandas as pd\n",
    "from math import sqrt\n",
    "import numpy as np\n",
    "import matplotlib.pyplot as plt"
   ]
  },
  {
   "cell_type": "code",
   "execution_count": null,
   "metadata": {},
   "outputs": [],
   "source": [
    "# Read files into Dataframes\n",
    "# Movie information\n",
    "movies_df = pd.read_csv(\"movies.csv\")\n",
    "# user information\n",
    "ratings_df = pd.read_csv(\"ratings.csv\")"
   ]
  },
  {
   "cell_type": "code",
   "execution_count": null,
   "metadata": {},
   "outputs": [],
   "source": [
    "# Remove the year from the 'title' column by using pandas's replacement function and store in a new 'year' column\n",
    "# Using regular expressions to find a year stored between parentheses (Ex: Toy Story (1995); Grumpier Old Men (1995))\n",
    "# Specify the parantheses so we do not conflict with movies which have years in their titles\n",
    "movies_df['year'] = movies_df.title.str.extract('(\\(\\d\\d\\d\\d\\))', expand=False)\n",
    "# Remove parentheses\n",
    "movies_df['year'] = movies_df.year.str.extract('(\\d\\d\\d\\d)', expand=False)\n",
    "# Remove the year from the 'title' column\n",
    "movies_df['title'] = movies_df.title.str.replace('(\\(\\d\\d\\d\\d\\))', '')\n",
    "# Ger rid of any ending whitespace characters that may have appeared\n",
    "movies_df['title'] = movies_df['title'].apply(lambda x: x.strip())"
   ]
  },
  {
   "cell_type": "code",
   "execution_count": null,
   "metadata": {},
   "outputs": [],
   "source": [
    "# Split the Genres column into a list of Genres to simplify future use\n",
    "# Every genre is separated by a | so we simply have to call a split function on |\n",
    "movies_df[\"genres\"] = movies_df.genres.str.split('|')"
   ]
  },
  {
   "cell_type": "code",
   "execution_count": null,
   "metadata": {},
   "outputs": [],
   "source": [
    "# Use One Hot Encoding technique to convert the list of genres to a vector where...\n",
    "# ...each column corresponds to one possible value of the feature\n",
    "# Copy the movie dataframe into a new one\n",
    "movies_with_genres_df = movies_df.copy()\n",
    "\n",
    "# For every row in the dataframe, iterate through the list of genres and place a 1 into the corresponding column\n",
    "for index, row in movies_df.iterrows():\n",
    "    for genre in row['genres']:\n",
    "        movies_with_genres_df.at[index, genre] = 1\n",
    "# Fill in the NaN values with 0 to show that a movie doesn't have that column's genre\n",
    "movies_with_genres_df = movies_with_genres_df.fillna(0)"
   ]
  },
  {
   "cell_type": "code",
   "execution_count": null,
   "metadata": {},
   "outputs": [],
   "source": [
    "# Drop the timestamp column because we do not need it\n",
    "# 'Drop' function removes a specific row or column from a dataframe\n",
    "ratings_df = ratings_df.drop('timestamp', 1)"
   ]
  },
  {
   "cell_type": "code",
   "execution_count": null,
   "metadata": {},
   "outputs": [],
   "source": [
    "# Create an input user to recommend movies\n",
    "userInput = [\n",
    "            {'title':'Breakfast Club, The', 'rating':5},\n",
    "            {'title':'Toy Story', 'rating':3.5},\n",
    "            {'title':'Jumanji', 'rating':2},\n",
    "            {'title':\"Pulp Fiction\", 'rating':5},\n",
    "            {'title':'Akira', 'rating':4.5}\n",
    "         ]\n",
    "input_movies = pd.DataFrame(userInput)"
   ]
  },
  {
   "cell_type": "code",
   "execution_count": null,
   "metadata": {},
   "outputs": [],
   "source": [
    "# Add movieId to input user\n",
    "# filter out the movies by title\n",
    "inputId = movies_df[movies_df['title'].isin(input_movies['title'].tolist())]\n",
    "# merge inputId into input_movies\n",
    "input_movies = pd.merge(inputId, input_movies)\n",
    "# drop information we will not use from the input dataframe\n",
    "input_movies = input_movies.drop('genres', 1).drop('year', 1)"
   ]
  },
  {
   "cell_type": "code",
   "execution_count": null,
   "metadata": {},
   "outputs": [],
   "source": [
    "# Filter out the movies from the input\n",
    "user_movies = movies_with_genres_df[movies_with_genres_df['movieId'].isin(input_movies['movieId'].tolist())]"
   ]
  },
  {
   "cell_type": "code",
   "execution_count": null,
   "metadata": {},
   "outputs": [],
   "source": [
    "# Reset the index to avoid future issues\n",
    "user_movies = user_movies.reset_index(drop=True)\n",
    "# Drop unnecessary issues due to save memory and to avoid issues\n",
    "user_genre_table = user_movies.drop('movieId', 1).drop('title', 1).drop('genres', 1).drop('year', 1)"
   ]
  },
  {
   "cell_type": "code",
   "execution_count": null,
   "metadata": {},
   "outputs": [],
   "source": [
    "# Learn the input's preference\n",
    "# Turn each genre into weights. We can do this by using the input's reviews and multiply them with the input's genre table\n",
    "# and then sum up the resulting table by column\n",
    "# Use dot product to get weights\n",
    "user_profile = user_genre_table.transpose().dot(input_movies['rating'])\n",
    "user_profile"
   ]
  },
  {
   "cell_type": "code",
   "execution_count": null,
   "metadata": {},
   "outputs": [],
   "source": [
    "# Extract the genre table from the original dataframe\n",
    "# Get the genres of every movie in our original dataframe\n",
    "genre_table = movies_with_genres_df.set_index(movies_with_genres_df['movieId'])\n",
    "# Drop some unnecessary information\n",
    "genre_table = genre_table.drop('movieId', 1).drop('title', 1).drop('genres', 1).drop('year', 1)\n",
    "genre_table.head()"
   ]
  },
  {
   "cell_type": "code",
   "execution_count": null,
   "metadata": {},
   "outputs": [],
   "source": [
    "genre_table.shape"
   ]
  },
  {
   "cell_type": "code",
   "execution_count": null,
   "metadata": {},
   "outputs": [],
   "source": [
    "# Now we have the input profile and the complete list of movies and their genres in hand.\n",
    "# We will take the average weights of every movie based on the input profile and recommend the top twenty movies that most satisfy the user\n",
    "# Multiply the genres by the weights and then take the average weights\n",
    "recommendation_table = ((genre_table * user_profile).sum(axis=1))/(user_profile.sum())\n",
    "recommendation_table.head(5)"
   ]
  },
  {
   "cell_type": "code",
   "execution_count": null,
   "metadata": {},
   "outputs": [],
   "source": [
    "# Sort our recommendations in descending order\n",
    "recommendation_table = recommendation_table.sort_values(ascending=False)\n",
    "recommendation_table.head(5)"
   ]
  },
  {
   "cell_type": "code",
   "execution_count": null,
   "metadata": {},
   "outputs": [],
   "source": [
    "# The final recommedation table\n",
    "movies_df.loc[movies_df['movieId'].isin(recommendation_table.head(20).keys())]"
   ]
  }
 ],
 "metadata": {
  "kernelspec": {
   "display_name": "Python 3",
   "language": "python",
   "name": "python3"
  },
  "language_info": {
   "codemirror_mode": {
    "name": "ipython",
    "version": 3
   },
   "file_extension": ".py",
   "mimetype": "text/x-python",
   "name": "python",
   "nbconvert_exporter": "python",
   "pygments_lexer": "ipython3",
   "version": "3.5.6"
  }
 },
 "nbformat": 4,
 "nbformat_minor": 2
}
